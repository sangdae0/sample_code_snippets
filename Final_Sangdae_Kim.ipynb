{
 "cells": [
  {
   "cell_type": "markdown",
   "metadata": {},
   "source": [
    "# Final project\n",
    "## Sangdae Kim\n",
    "#### Supporting notebook for Ads for tourists vs locals inside Yellow cabs"
   ]
  },
  {
   "cell_type": "markdown",
   "metadata": {},
   "source": [
    "##### This notebook do lots of drawing & calculations, run by each cell please.\n",
    "##### This project uses pyproj and gmaps, it may needs to be installed(pip)."
   ]
  },
  {
   "cell_type": "markdown",
   "metadata": {},
   "source": [
    "#### 0. Proposal\n",
    "New York is one of the most famous places for tourists but it is also famous as an overcrowded city.\n",
    "I want to figure out which kind of ads in taxi<br>\n",
    "will be more effective between ads for tourists and ads for locals."
   ]
  },
  {
   "cell_type": "markdown",
   "metadata": {},
   "source": [
    "#### 1. Hypothesis\n",
    "I assumed that even New York is famous, <br>\n",
    "the usage rate of locals would be much higher than the usage rate of tourists in New York.<br>\n",
    "Because it is city, there are many busy people.<br>\n",
    "And I don't think many people ride their car in the city of well known for overcrowded city.<br>\n",
    "<br>\n",
    "The second hypothesis were that,<br>\n",
    "In general, Tourists spend time for attractions.<br>\n",
    "Locals spend time for restaurants.<br>\n",
    "You don't go famous attractions if you are local, at least for me.<br>\n",
    "And for tourists, it depends of which type of trip,<br> but tourists don't go restaurants like fancy restaurants,\n",
    "It take so much time. Again, for me at least.<br>"
   ]
  },
  {
   "cell_type": "markdown",
   "metadata": {},
   "source": [
    "#### Variables about parsing"
   ]
  },
  {
   "cell_type": "code",
   "execution_count": null,
   "metadata": {},
   "outputs": [],
   "source": [
    "# To parse, turn the flag to True, and put directory of the trip data\n",
    "# need to put slash at the end of dir\n",
    "parse_ny_trip_data = False\n",
    "dir_trip_data = './trip_data/'\n",
    "\n",
    "# To export processed data, turn the flag to True, and set export directory\n",
    "# need to put slash at the end of dir\n",
    "export_processed_data = False\n",
    "export_processed_dir = './exported_data/'\n",
    "sample_dir_trip_data = './sample_trip_data/'"
   ]
  },
  {
   "cell_type": "markdown",
   "metadata": {},
   "source": [
    "#### functions and mandatory value calucalations"
   ]
  },
  {
   "cell_type": "code",
   "execution_count": null,
   "metadata": {},
   "outputs": [],
   "source": [
    "import pandas as pd\n",
    "from pandas import DataFrame\n",
    "from pandas import Series\n",
    "import numpy as np\n",
    "import matplotlib\n",
    "from matplotlib import pyplot as plt\n",
    "from datetime import datetime\n",
    "from datetime import timedelta\n",
    "import gmaps\n",
    "import gmaps.datasets\n",
    "import math\n",
    "# pip install pyproj\n",
    "# https://github.com/pyproj4/pyproj\n",
    "import pyproj\n",
    "from pyproj import Transformer\n",
    "\n",
    "# read gmaps api key\n",
    "with open('api.txt') as file:\n",
    "    API_KEY = file.readline()\n",
    "    file.close\n",
    "gmaps.configure(api_key=API_KEY)\n",
    "\n",
    "\n",
    "# https://jingwen-z.github.io/how-to-convert-projected-coordinates-to-latitude-longitude-by-python/\n",
    "# https://stackoverflow.com/a/2689261\n",
    "# https://gis.stackexchange.com/a/48952\n",
    "latlong_to_world_transformer = Transformer.from_crs('epsg:4326', 'epsg:3857')\n",
    "world_to_latlong_transformer = Transformer.from_crs('epsg:3857', 'epsg:4326')\n",
    "# convert latitude longitude to tilemap pos\n",
    "def latlong_to_world(lat_, long_):\n",
    "    world_x, world_y = latlong_to_world_transformer.transform(lat_, long_)\n",
    "    return world_x, world_y\n",
    "\n",
    "# convert tilemap pos to latitude longitude\n",
    "def world_to_latlong(world_x_, world_y_):\n",
    "    return world_to_latlong_transformer.transform(world_x_, world_y_)\n",
    "\n",
    "# calculate grid indices within specified boundary\n",
    "def calc_grid_idx(world_x_, world_y_,\n",
    "                  world_min_x_, world_min_y_,\n",
    "                  world_max_x_, world_max_y_,\n",
    "                  cell_step_world_,\n",
    "                  grid_division_):\n",
    "    grid_x = -1\n",
    "    grid_y = -1\n",
    "    \n",
    "    if world_x_ < world_min_x_:\n",
    "        return grid_x, grid_y\n",
    "    elif world_x_ > world_max_x_:\n",
    "        return grid_x, grid_y\n",
    "    \n",
    "    if world_y_ < world_min_y_:\n",
    "        return grid_x, grid_y\n",
    "    elif world_y_ > world_max_y_:\n",
    "        return grid_x, grid_y\n",
    "    \n",
    "    grid_x = int((world_x_ - world_min_x_) / cell_step_world_)\n",
    "    grid_y = int((world_max_y_ - world_y_) / cell_step_world_)\n",
    "    \n",
    "    return grid_x, grid_y\n",
    "\n",
    "# calculate cell center position in tilemap coordinates\n",
    "def get_grid_center_xy(idx_x_, idx_y_,\n",
    "                       step_world_,\n",
    "                       world_min_x_, world_min_y_,\n",
    "                       world_max_x_, world_max_y_,\n",
    "                       grid_division_):\n",
    "    center_world_x = world_min_x_ + (idx_x_) * step_world_ + (step_world_ * 0.5)\n",
    "    center_world_y = world_max_y_ - (idx_y_) * step_world_ - (step_world_ * 0.5)\n",
    "    return center_world_x, center_world_y\n",
    "\n",
    "# calculate weight heat grid and returns\n",
    "def get_heat_grid(ref_table_,\n",
    "                  lat_key_,\n",
    "                  long_key_,\n",
    "                  min_x_, min_y_,\n",
    "                  max_x_, max_y_,\n",
    "                  grid_cell_step_,\n",
    "                  grid_division_):\n",
    "    ret_heat_grid = pd.DataFrame(np.zeros(grid_division_ * grid_division_,\n",
    "                                          dtype=int)\n",
    "                                 .reshape(grid_division_, grid_division_))\n",
    "    for idx, row in ref_table_.iterrows():\n",
    "        hit_pos_x, hit_pos_y = latlong_to_world(row[lat_key_],\n",
    "                                                row[long_key_])\n",
    "        # ignore nan data\n",
    "        if math.isnan(hit_pos_x) == True:\n",
    "            continue\n",
    "        if math.isnan(hit_pos_y) == True:\n",
    "            continue    \n",
    "        grid_x, grid_y = calc_grid_idx(hit_pos_x, hit_pos_y,\n",
    "                                       min_x_, min_y_,\n",
    "                                       max_x_, max_y_,\n",
    "                                       grid_cell_step_,\n",
    "                                       grid_division_)\n",
    "        # ignore out of boundary\n",
    "        if grid_x == -1:\n",
    "            continue\n",
    "        elif grid_y == -1:\n",
    "            continue\n",
    "        ret_heat_grid[grid_x][grid_y] += 1\n",
    "    return ret_heat_grid\n",
    "\n",
    "# get gmaps layer of points of grid cells\n",
    "def gen_empty_heat_grid_layer(count_grid_,\n",
    "                                world_min_x_, world_min_y_,\n",
    "                                world_max_x_, world_max_y_,\n",
    "                                cell_step_world_):\n",
    "    heatcount_locs = []\n",
    "    heatcount_weights = []\n",
    "    \n",
    "    for row_idx, row in count_grid_.iterrows():\n",
    "        col_idx = 0\n",
    "        for heat_count in row:\n",
    "            if heat_count == 0:\n",
    "                center_x, center_y = get_grid_center_xy(col_idx, row_idx,\n",
    "                                                        cell_step_world_,\n",
    "                                                        world_min_x_, world_min_y_,\n",
    "                                                        world_max_x_, world_max_y_,\n",
    "                                                        grid_division)\n",
    "                heat_lat, heat_long = world_to_latlong(center_x, center_y)\n",
    "                location = [heat_lat, heat_long]\n",
    "                heatcount_locs.append(location)\n",
    "                heatcount_weights.append(heat_count)\n",
    "            col_idx += 1\n",
    "    return gmaps.symbol_layer(heatcount_locs,\n",
    "                              fill_color='black',\n",
    "                               stroke_color='black',\n",
    "                               scale=1)\n",
    "\n",
    "# get gmaps layer of weight heat map\n",
    "def gen_heatcount_layer(count_grid_,\n",
    "                        world_min_x_, world_min_y_,\n",
    "                        world_max_x_, world_max_y_,\n",
    "                        cell_step_world_,\n",
    "                        fill_color_,\n",
    "                        stroke_color_,\n",
    "                        use_heat_map_):\n",
    "    heatcount_locs = []\n",
    "    heatcount_weights = []\n",
    "    \n",
    "    for row_idx, row in count_grid_.iterrows():\n",
    "        col_idx = 0\n",
    "        for heat_count in row:\n",
    "            if heat_count > 0:\n",
    "                center_x, center_y = get_grid_center_xy(col_idx, row_idx,\n",
    "                                                        cell_step_world_,\n",
    "                                                        world_min_x_, world_min_y_,\n",
    "                                                        world_max_x_, world_max_y_,\n",
    "                                                        grid_division)\n",
    "                heat_lat, heat_long = world_to_latlong(center_x, center_y)\n",
    "                location = [heat_lat, heat_long]\n",
    "                heatcount_locs.append(location)\n",
    "                heatcount_weights.append(heat_count)\n",
    "            col_idx += 1\n",
    "    if use_heat_map_ == True:\n",
    "        return gmaps.heatmap_layer(heatcount_locs,\n",
    "                                   weights=heatcount_weights)\n",
    "    else:\n",
    "        return gmaps.symbol_layer(heatcount_locs,\n",
    "                                  fill_color=fill_color_,\n",
    "                                   stroke_color=stroke_color_,\n",
    "                                   scale=1)\n",
    "\n",
    "# get gmaps layer of boundary lines\n",
    "def gen_boundary_layer(min_x_, min_y_,\n",
    "                       max_x_, max_y_,\n",
    "                       stroke_weight_,\n",
    "                       stroke_color_):    \n",
    "    boundary_lines = [[[min_x_, min_y_], [min_x_, max_y_]],\n",
    "                        [[min_x_, max_y_], [max_x_, max_y_]],\n",
    "                        [[max_x_, max_y_], [max_x_, min_y_]],\n",
    "                        [[max_x_, min_y_], [min_x_, min_y_]]]           \n",
    "    \n",
    "    return gmaps.drawing_layer(features=[gmaps.Line(world_to_latlong(min_x_, min_y_),\n",
    "                                                    world_to_latlong(min_x_, max_y_),\n",
    "                                                    stroke_weight=stroke_weight_,\n",
    "                                                    stroke_color='red'),\n",
    "                                         gmaps.Line(world_to_latlong(min_x_, max_y_),\n",
    "                                                    world_to_latlong(max_x_, max_y_),\n",
    "                                                    stroke_weight=stroke_weight_,\n",
    "                                                    stroke_color='green'),\n",
    "                                         gmaps.Line(world_to_latlong(max_x_, max_y_),\n",
    "                                                    world_to_latlong(max_x_, min_y_),\n",
    "                                                    stroke_weight=stroke_weight_,\n",
    "                                                    stroke_color='blue'),\n",
    "                                         gmaps.Line(world_to_latlong(max_x_, min_y_),\n",
    "                                                    world_to_latlong(min_x_, min_y_),\n",
    "                                                    stroke_weight=stroke_weight_,\n",
    "                                                    stroke_color='white')])\n",
    "\n",
    "# picked ny(Manhattan) boundaries from google maps(eyeballing)\n",
    "ny_zoom_level = 12\n",
    "# 40.74839464368327, -73.98569953825073 Empire State Building\n",
    "ny_center_lat, ny_center_long = [40.74839464368327, -73.98569953825073]\n",
    "\n",
    "grid_division = 50\n",
    "\n",
    "ny_center_x, ny_center_y = latlong_to_world(ny_center_lat, ny_center_long)\n",
    "grid_half_size = 7000\n",
    "ny_min_x = ny_center_x - grid_half_size\n",
    "ny_min_y = ny_center_y - grid_half_size\n",
    "ny_max_x = ny_center_x + grid_half_size\n",
    "ny_max_y = ny_center_y + grid_half_size\n",
    "\n",
    "grid_size = grid_half_size * 2\n",
    "grid_cell_step = float(grid_size) / grid_division\n",
    "\n",
    "columns_trip_data = ['dropoff_longitude', 'dropoff_latitude']\n",
    "\n",
    "# sampled data of trip_data_1\n",
    "t_sample_dropoff_1 = pd.read_csv(sample_dir_trip_data + 'trip_data_1.csv',\n",
    "                                        encoding=\"utf-8\",\n",
    "                                        usecols=columns_trip_data)\n",
    "\n",
    "dropoff_heatgrid_sample_1 = pd.read_csv(sample_dir_trip_data \n",
    "                                        + 'dropoff_heat_grid_'\n",
    "                                        + str(1) + '.csv',\n",
    "                                        encoding=\"utf-8\")\n",
    "# remove unused column\n",
    "# https://stackoverflow.com/a/20301769\n",
    "dropoff_heatgrid_sample_1 = dropoff_heatgrid_sample_1.drop(dropoff_heatgrid_sample_1.columns[0], axis=1)\n",
    "\n"
   ]
  },
  {
   "cell_type": "markdown",
   "metadata": {},
   "source": [
    "#### 2. Gen data for restaurants and attractions"
   ]
  },
  {
   "cell_type": "markdown",
   "metadata": {},
   "source": [
    "To get restaurants data, I make them.<br>\n",
    "By searching restaurants in New York on google maps.<br>\n",
    "I chose restaurants which has more highest number of ratings<br>\n",
    "and type of restaurant would look like needs to spend at least a hour.<br>\n",
    "And I tried to find the coordinates in front of the restaurants.<br>"
   ]
  },
  {
   "cell_type": "code",
   "execution_count": null,
   "metadata": {},
   "outputs": [],
   "source": [
    "# best restaurants in NY table\n",
    "t_ny_restaurant = pd.read_csv('./ny_restaurants.csv',\n",
    "                            encoding=\"utf-16\")\n",
    "ny_restaurant_latlongs = t_ny_restaurant[['latitude', 'longitude']]\n",
    "t_ny_restaurant.head()"
   ]
  },
  {
   "cell_type": "markdown",
   "metadata": {},
   "source": [
    "For attractions, I used tripadvisor.com to get best list of attractions in New york.<br>\n",
    "Locations of restaurant data are in Manhattan, generally,<br>\n",
    "so I limit the locations of the attractions in Manhattan.<br>\n",
    "And if the attraction seems to be huge and overcrowded,<br>\n",
    "I grab the closest possible location for the car to drop off the passenger\n",
    "by using google maps get direction feature."
   ]
  },
  {
   "cell_type": "code",
   "execution_count": null,
   "metadata": {},
   "outputs": [],
   "source": [
    "# best attractions in NY table\n",
    "t_ny_travel = pd.read_csv('./ny_travels.csv',\n",
    "                            encoding=\"utf-16\")\n",
    "ny_travel_latlongs = t_ny_travel[['latitude', 'longitude']]\n",
    "t_ny_travel.head()"
   ]
  },
  {
   "cell_type": "code",
   "execution_count": null,
   "metadata": {},
   "outputs": [],
   "source": [
    "parse_num = 6 # 6 of 12\n",
    "# merge the saved dataframes\n",
    "dropoff_heatgrids = []\n",
    "for i in range(1, parse_num + 1):\n",
    "    dropoff_heatgrid_idx = pd.read_csv(export_processed_dir \n",
    "                                        + 'dropoff_heat_grid_'\n",
    "                                        + str(i) + '.csv',\n",
    "                                        encoding=\"utf-8\")\n",
    "    # drop first column(generated when save)\n",
    "    # https://stackoverflow.com/a/20301769\n",
    "    dropoff_heatgrid_idx = dropoff_heatgrid_idx.drop(dropoff_heatgrid_idx.columns[0], axis=1)\n",
    "    dropoff_heatgrids.append(dropoff_heatgrid_idx)\n",
    "    \n",
    "\n",
    "# merge heat grids by adding\n",
    "merged_dropoff_heat_grid = dropoff_heatgrids[0]\n",
    "for i in range(1, parse_num):\n",
    "    merged_dropoff_heat_grid = merged_dropoff_heat_grid.add(dropoff_heatgrids[i])\n",
    "merged_dropoff_heat_grid.head()"
   ]
  },
  {
   "cell_type": "code",
   "execution_count": null,
   "metadata": {},
   "outputs": [],
   "source": [
    "# gmap layers\n",
    "\n",
    "boundary_layer = gen_boundary_layer(ny_min_x, ny_min_y,\n",
    "                                    ny_max_x, ny_max_y,\n",
    "                                    3.0,\n",
    "                                    'yellow')\n",
    "empty_heat_grid = pd.DataFrame(np.zeros(grid_division * grid_division,\n",
    "                                      dtype=int)\n",
    "                             .reshape(grid_division, grid_division))\n",
    "empty_heat_grid_layer = gen_empty_heat_grid_layer(empty_heat_grid,\n",
    "                                              ny_min_x, ny_min_y,\n",
    "                                              ny_max_x, ny_max_y,\n",
    "                                              grid_cell_step)\n",
    "\n",
    "ny_restaurant_latlong_layer = gmaps.symbol_layer(ny_restaurant_latlongs,\n",
    "                                                  fill_color='red',\n",
    "                                                  stroke_color='white',\n",
    "                                                  scale=2)\n",
    "\n",
    "ny_restaurant_heat_grid = get_heat_grid(t_ny_restaurant,\n",
    "                                          'latitude',\n",
    "                                          'longitude',\n",
    "                                          ny_min_x, ny_min_y,\n",
    "                                          ny_max_x, ny_max_y,\n",
    "                                          grid_cell_step,\n",
    "                                          grid_division)\n",
    "ny_restaurant_heat_layer = gen_heatcount_layer(ny_restaurant_heat_grid,\n",
    "                                              ny_min_x, ny_min_y,\n",
    "                                              ny_max_x, ny_max_y,\n",
    "                                              grid_cell_step,\n",
    "                                              'white',\n",
    "                                               'white',\n",
    "                                               False)\n",
    "\n",
    "ny_travel_latlong_layer = gmaps.symbol_layer(ny_travel_latlongs,\n",
    "                                                  fill_color='green',\n",
    "                                                  stroke_color='yellow',\n",
    "                                                  scale=2)\n",
    "ny_travel_heat_grid = get_heat_grid(t_ny_travel,\n",
    "                                          'latitude',\n",
    "                                          'longitude',\n",
    "                                          ny_min_x, ny_min_y,\n",
    "                                          ny_max_x, ny_max_y,\n",
    "                                          grid_cell_step,\n",
    "                                          grid_division)\n",
    "\n",
    "ny_travel_heat_layer = gen_heatcount_layer(ny_travel_heat_grid,\n",
    "                                              ny_min_x, ny_min_y,\n",
    "                                              ny_max_x, ny_max_y,\n",
    "                                              grid_cell_step,\n",
    "                                              'yellow',\n",
    "                                               'yellow',\n",
    "                                               False)\n",
    "\n",
    "merged_dropoff_heat_grid_layer = gen_heatcount_layer(merged_dropoff_heat_grid,\n",
    "                                              ny_min_x, ny_min_y,\n",
    "                                              ny_max_x, ny_max_y,\n",
    "                                              grid_cell_step,\n",
    "                                              'yellow',\n",
    "                                               'yellow',\n",
    "                                               True)\n",
    "sample_dropoff_1_latlong_layer = gmaps.symbol_layer(t_sample_dropoff_1\n",
    "                                                   [['dropoff_latitude',\n",
    "                                                     'dropoff_longitude']],\n",
    "                                                    fill_color='blue',\n",
    "                                                    stroke_color='red',\n",
    "                                                    scale=2)\n",
    "\n",
    "sample_dropoff_1_heat_layer = gen_heatcount_layer(dropoff_heatgrid_sample_1,\n",
    "                                                  ny_min_x, ny_min_y,\n",
    "                                                  ny_max_x, ny_max_y,\n",
    "                                                  grid_cell_step,\n",
    "                                                  'red',\n",
    "                                                   'red',\n",
    "                                                  False)\n",
    "                    "
   ]
  },
  {
   "cell_type": "code",
   "execution_count": null,
   "metadata": {},
   "outputs": [],
   "source": [
    "#### 3. Analyze"
   ]
  },
  {
   "cell_type": "markdown",
   "metadata": {},
   "source": [
    "3.1. Lat/Longitude of best restaurants and attractions in NY"
   ]
  },
  {
   "cell_type": "code",
   "execution_count": null,
   "metadata": {},
   "outputs": [],
   "source": [
    "# location map of restaurants and attaractions\n",
    "# White dots→Restaurants in NY\n",
    "# Yellow dots→ Attractions in NY\n",
    "fig = gmaps.figure(center=[ny_center_lat, ny_center_long],\n",
    "                   zoom_level=ny_zoom_level)\n",
    "fig.add_layer(ny_restaurant_latlong_layer)\n",
    "fig.add_layer(ny_travel_latlong_layer)\n",
    "fig"
   ]
  },
  {
   "cell_type": "markdown",
   "metadata": {},
   "source": [
    "The restaurants(white dots) and attractions(yellow dots) are quite densed."
   ]
  },
  {
   "cell_type": "markdown",
   "metadata": {},
   "source": [
    "3.2. Grid map<br>\n",
    "I used grid cell(https://gis.stackexchange.com/a/7560)<br>\n",
    "to make a weighet heat map.<br>\n",
    "It is about averaging points by put nearby locations to cells of grid.<br>\n",
    "And to make a grid cell, I need to convert the lat/longitude to tilemap coordintes for calculating grid positions. Pyproj supports tranformation between them so I used the library."
   ]
  },
  {
   "cell_type": "code",
   "execution_count": null,
   "metadata": {},
   "outputs": [],
   "source": [
    "# showing grid\n",
    "fig = gmaps.figure(center=[ny_center_lat, ny_center_long],\n",
    "                   zoom_level=ny_zoom_level)\n",
    "fig.add_layer(boundary_layer)\n",
    "fig.add_layer(empty_heat_grid_layer)\n",
    "fig"
   ]
  },
  {
   "cell_type": "markdown",
   "metadata": {},
   "source": [
    "The square is a boundary of the grid.<br>\n",
    "This is for calculating size of grid and also filter the locations within the boundaries.<br>"
   ]
  },
  {
   "cell_type": "markdown",
   "metadata": {},
   "source": [
    "3.3. Projecting onto grid cell<br>\n",
    "I projected the locations of restaurant and attractions.<br>\n",
    "And also the grid position of them.<br>\n",
    "Grid position is the small ones."
   ]
  },
  {
   "cell_type": "code",
   "execution_count": null,
   "metadata": {},
   "outputs": [],
   "source": [
    "# \n",
    "fig = gmaps.figure(center=[ny_center_lat, ny_center_long],\n",
    "                   zoom_level=ny_zoom_level)\n",
    "fig.add_layer(boundary_layer)\n",
    "fig.add_layer(empty_heat_grid_layer)\n",
    "fig.add_layer(ny_restaurant_latlong_layer)\n",
    "fig.add_layer(ny_travel_latlong_layer)\n",
    "fig.add_layer(ny_restaurant_heat_layer)\n",
    "fig.add_layer(ny_travel_heat_layer)\n",
    "fig"
   ]
  },
  {
   "cell_type": "markdown",
   "metadata": {},
   "source": [
    "You can see how positions and grid cell locations near each other.<br>\n",
    "The idea is to increment value of the cell of the location like a heatmap<br>\n",
    "So each small dots are 1 or 2, black dots are 0."
   ]
  },
  {
   "cell_type": "markdown",
   "metadata": {},
   "source": [
    "3.4. About accuracy"
   ]
  },
  {
   "cell_type": "code",
   "execution_count": null,
   "metadata": {},
   "outputs": [],
   "source": [
    "fig = gmaps.figure(center=[ny_center_lat, ny_center_long],\n",
    "                   zoom_level=ny_zoom_level)\n",
    "fig.add_layer(boundary_layer)\n",
    "fig.add_layer(empty_heat_grid_layer)\n",
    "fig.add_layer(ny_restaurant_latlong_layer)\n",
    "fig.add_layer(ny_travel_latlong_layer)\n",
    "fig.add_layer(ny_restaurant_heat_layer)\n",
    "fig.add_layer(ny_travel_heat_layer)\n",
    "fig.add_layer(sample_dropoff_1_latlong_layer)\n",
    "fig.add_layer(sample_dropoff_1_heat_layer)\n",
    "fig\n"
   ]
  },
  {
   "cell_type": "markdown",
   "metadata": {},
   "source": [
    "There is a problem with resolution of grid cells.<br>\n",
    "If the resolution goes high, then the accuracy goes up,<br>\n",
    "so the differences of the location and grid location goes smaller.<br>\n",
    "But it may not collide with taxi drop off because of it is too accurate.<br>\n",
    "And it is also slow to processing the grid.<br>\n",
    "\n",
    "However, if the resolution goes low, then the accuracy goes down.<br>\n",
    "And it may share same grid coordinates between restaurant and attraction.<br>\n",
    "So I need to find the adequate size.<br>\n",
    "If the cell size is 50, the cell size is about the block.<br>\n",
    "The processing time is about 30 mins for each month data of dropoff locations.<br>"
   ]
  },
  {
   "cell_type": "markdown",
   "metadata": {},
   "source": [
    "3.4. Dropoff heat map<br>\n",
    "I serialized each grid data to save time.<br>\n",
    "And them each other to get merged data.<br>\n",
    "And I drawed it as a weight heat map.<br>"
   ]
  },
  {
   "cell_type": "code",
   "execution_count": null,
   "metadata": {},
   "outputs": [],
   "source": [
    "fig = gmaps.figure(center=[ny_center_lat, ny_center_long],\n",
    "                   zoom_level=ny_zoom_level)\n",
    "fig.add_layer(boundary_layer)\n",
    "fig.add_layer(merged_dropoff_heat_grid_layer)\n",
    "fig\n"
   ]
  },
  {
   "cell_type": "markdown",
   "metadata": {},
   "source": [
    "You can see there are contrasts in the heat map.<br>\n",
    "There is no heats in the locations the car can't stop or go.<br>\n",
    "Like water, park, or in the middle of the bridge.<br>\n",
    "And you can see very low heats on outside of Manhattan.<br>\n",
    "And the center of manhattan heats very high degree.<br>\n",
    "\n"
   ]
  },
  {
   "cell_type": "markdown",
   "metadata": {},
   "source": [
    "3.5. Hard to distinguish<br>"
   ]
  },
  {
   "cell_type": "code",
   "execution_count": null,
   "metadata": {},
   "outputs": [],
   "source": [
    "fig = gmaps.figure(center=[ny_center_lat, ny_center_long],\n",
    "                   zoom_level=ny_zoom_level)\n",
    "fig.add_layer(boundary_layer)\n",
    "fig.add_layer(merged_dropoff_heat_grid_layer)\n",
    "fig.add_layer(ny_restaurant_latlong_layer)\n",
    "fig.add_layer(ny_travel_latlong_layer)\n",
    "fig.add_layer(ny_restaurant_heat_layer)\n",
    "fig.add_layer(ny_travel_heat_layer)\n",
    "fig\n"
   ]
  },
  {
   "cell_type": "markdown",
   "metadata": {},
   "source": [
    "But every section of manhattan heats high,<br>\n",
    "it is hardly to distinguish the differences between restaurants and attractions.<br>"
   ]
  },
  {
   "cell_type": "markdown",
   "metadata": {},
   "source": [
    "3.5. Make a intesection<br>\n",
    "I made a insersection to know influences in heatmap.<br>\n",
    "I simple multiplied the heat grid and location grid because rest of are zero.<br>\n",
    "So the number would be total dropoff count in cell * number of locations in cell.<br>"
   ]
  },
  {
   "cell_type": "code",
   "execution_count": null,
   "metadata": {},
   "outputs": [],
   "source": [
    "# how many cells are matched\n",
    "# need to convert due to Nan error\n",
    "np_merged_dropoff_heat_grid = merged_dropoff_heat_grid.to_numpy()\n",
    "\n",
    "np_ny_restaurant_heat_grid = ny_restaurant_heat_grid.to_numpy()\n",
    "np_intersection_restaurant_merged = np_merged_dropoff_heat_grid * np_ny_restaurant_heat_grid\n",
    "intersection_restaurant_merged = pd.DataFrame(np_intersection_restaurant_merged)\n",
    "\n",
    "np_ny_travel_heat_grid = ny_travel_heat_grid.to_numpy()\n",
    "np_intersection_travel_merged = np_merged_dropoff_heat_grid * ny_travel_heat_grid\n",
    "intersection_travel_merged = pd.DataFrame(np_intersection_travel_merged)"
   ]
  },
  {
   "cell_type": "code",
   "execution_count": null,
   "metadata": {},
   "outputs": [],
   "source": [
    "intersection_restaurant_merged_heat_layer = gen_heatcount_layer(intersection_restaurant_merged,\n",
    "                                                  ny_min_x, ny_min_y,\n",
    "                                                  ny_max_x, ny_max_y,\n",
    "                                                  grid_cell_step,\n",
    "                                                  'green',\n",
    "                                                   'green',\n",
    "                                                  True)\n",
    "intersection_travel_merged_heat_layer = gen_heatcount_layer(intersection_travel_merged,\n",
    "                                                  ny_min_x, ny_min_y,\n",
    "                                                  ny_max_x, ny_max_y,\n",
    "                                                  grid_cell_step,\n",
    "                                                  'green',\n",
    "                                                   'green',\n",
    "                                                  True)"
   ]
  },
  {
   "cell_type": "code",
   "execution_count": null,
   "metadata": {},
   "outputs": [],
   "source": [
    "fig = gmaps.figure(center=[ny_center_lat, ny_center_long],\n",
    "                   zoom_level=ny_zoom_level)\n",
    "fig.add_layer(boundary_layer)\n",
    "fig.add_layer(intersection_restaurant_merged_heat_layer)\n",
    "fig"
   ]
  },
  {
   "cell_type": "code",
   "execution_count": null,
   "metadata": {},
   "outputs": [],
   "source": [
    "fig = gmaps.figure(center=[ny_center_lat, ny_center_long],\n",
    "                   zoom_level=ny_zoom_level)\n",
    "fig.add_layer(boundary_layer)\n",
    "fig.add_layer(intersection_travel_merged_heat_layer)\n",
    "fig"
   ]
  },
  {
   "cell_type": "markdown",
   "metadata": {},
   "source": [
    "Each intersection of heat maps."
   ]
  },
  {
   "cell_type": "markdown",
   "metadata": {},
   "source": [
    "#### 4. Conclusion"
   ]
  },
  {
   "cell_type": "code",
   "execution_count": null,
   "metadata": {},
   "outputs": [],
   "source": [
    "cell_count_merged_heat = merged_dropoff_heat_grid.astype(bool).values.sum()\n",
    "intersection_percent_heat = (cell_count_merged_heat / (grid_division * grid_division)) * 100.0\n",
    "print('heat cell count of dropoffs: ', intersection_percent_heat, '% of total cell count')"
   ]
  },
  {
   "cell_type": "code",
   "execution_count": null,
   "metadata": {},
   "outputs": [],
   "source": [
    "# https://stackoverflow.com/a/34156147\n",
    "cell_count_restaurants_merged = intersection_restaurant_merged.astype(bool).values.sum()\n",
    "print('# of restaurant heat cell count: ', cell_count_restaurants_merged)\n",
    "intersection_percent_restaurants = (cell_count_restaurants_merged / cell_count_merged_heat) * 100.0\n",
    "print('heat cell count of restaurants: ', intersection_percent_restaurants, '% of dropoff cells')"
   ]
  },
  {
   "cell_type": "code",
   "execution_count": null,
   "metadata": {},
   "outputs": [],
   "source": [
    "# https://stackoverflow.com/a/34156147\n",
    "cell_count_travel_merged = intersection_travel_merged.astype(bool).values.sum()\n",
    "print('# of attraction heat cell count: ', cell_count_travel_merged)\n",
    "intersection_percent_travels = (cell_count_travel_merged / cell_count_merged_heat) * 100.0\n",
    "print('heat cell count of attractions: ', intersection_percent_travels, '% of dropoff cells')\n",
    "cell_count_travel_merged"
   ]
  },
  {
   "cell_type": "code",
   "execution_count": null,
   "metadata": {},
   "outputs": [],
   "source": [
    "intersection_restaurant_score = intersection_restaurant_merged.values.sum()\n",
    "print('restaurants total heat score: ', intersection_restaurant_score)"
   ]
  },
  {
   "cell_type": "code",
   "execution_count": null,
   "metadata": {},
   "outputs": [],
   "source": [
    "intersection_travel_score = intersection_travel_merged.values.sum()\n",
    "print('attractions total heat score: ', intersection_travel_score)"
   ]
  },
  {
   "cell_type": "code",
   "execution_count": null,
   "metadata": {},
   "outputs": [],
   "source": [
    "if intersection_restaurant_score > intersection_travel_score:\n",
    "    print('restaurants total heat score is higher than attractions')\n",
    "elif intersection_restaurant_score < intersection_travel_score:\n",
    "    print('attractions total heat score is higher than restaurants')\n",
    "else:\n",
    "    print('attractions total heat score and restaurants total heat score have same score')"
   ]
  },
  {
   "cell_type": "code",
   "execution_count": null,
   "metadata": {},
   "outputs": [],
   "source": [
    "print('Restaurants and attractions have same heat cell count,')\n",
    "print('but attractions have more score than restaurants by: ', intersection_travel_score - intersection_restaurant_score)\n",
    "print('Therefore, tourists seems use cabs more than locals in NY')"
   ]
  },
  {
   "cell_type": "markdown",
   "metadata": {},
   "source": [
    "#### Parsing(optional, huge cost of calculations)"
   ]
  },
  {
   "cell_type": "code",
   "execution_count": null,
   "metadata": {},
   "outputs": [],
   "source": [
    "if parse_ny_trip_data == True:\n",
    "    # parse table\n",
    "    t_dropoff_1 = pd.read_csv(dir_trip_data \n",
    "                                + 'trip_data_'\n",
    "                                + str(1) + '.csv',\n",
    "                                encoding=\"utf-8\",\n",
    "                                usecols=columns_trip_data)\n"
   ]
  },
  {
   "cell_type": "code",
   "execution_count": null,
   "metadata": {},
   "outputs": [],
   "source": [
    " if export_processed_data == True:\n",
    "    # gen heat grid of parsed table(lots of calculations)\n",
    "    t_dropoff_heat_grid_1 = get_heat_grid(t_dropoff_1,\n",
    "                                              'dropoff_latitude',\n",
    "                                              'dropoff_longitude',\n",
    "                                              ny_min_x, ny_min_y,\n",
    "                                              ny_max_x, ny_max_y,\n",
    "                                              grid_cell_step,\n",
    "                                              grid_division)\n",
    "    # export to csv\n",
    "    t_dropoff_heat_grid_1.to_csv(export_processed_dir\n",
    "                                   + 'dropoff_heat_grid_'\n",
    "                                   + str(1) + '.csv')"
   ]
  },
  {
   "cell_type": "code",
   "execution_count": null,
   "metadata": {},
   "outputs": [],
   "source": [
    "if parse_ny_trip_data == True:\n",
    "    t_dropoff_2 = pd.read_csv(dir_trip_data \n",
    "                                + 'trip_data_'\n",
    "                                + str(2) + '.csv',\n",
    "                                encoding=\"utf-8\",\n",
    "                                usecols=columns_trip_data)"
   ]
  },
  {
   "cell_type": "code",
   "execution_count": null,
   "metadata": {},
   "outputs": [],
   "source": [
    " if export_processed_data == True:\n",
    "    t_dropoff_heat_grid_2 = get_heat_grid(t_dropoff_2,\n",
    "                                              'dropoff_latitude',\n",
    "                                              'dropoff_longitude',\n",
    "                                              ny_min_x, ny_min_y,\n",
    "                                              ny_max_x, ny_max_y,\n",
    "                                              grid_cell_step,\n",
    "                                              grid_division)\n",
    "    t_dropoff_heat_grid_2.to_csv(export_processed_dir\n",
    "                               + 'dropoff_heat_grid_'\n",
    "                               + str(2) + '.csv')"
   ]
  },
  {
   "cell_type": "code",
   "execution_count": null,
   "metadata": {},
   "outputs": [],
   "source": [
    "if parse_ny_trip_data == True:\n",
    "    columns = [' dropoff_longitude', ' dropoff_latitude']\n",
    "    t_dropoff_3 = pd.read_csv(dir_trip_data \n",
    "                                + 'trip_data_'\n",
    "                                + str(3) + '.csv',\n",
    "                                encoding=\"utf-8\",\n",
    "                                usecols=columns)"
   ]
  },
  {
   "cell_type": "code",
   "execution_count": null,
   "metadata": {},
   "outputs": [],
   "source": [
    " if export_processed_data == True:\n",
    "    t_dropoff_heat_grid_3 = get_heat_grid(t_dropoff_3,\n",
    "                                              ' dropoff_latitude',\n",
    "                                              ' dropoff_longitude',\n",
    "                                              ny_min_x, ny_min_y,\n",
    "                                              ny_max_x, ny_max_y,\n",
    "                                              grid_cell_step,\n",
    "                                              grid_division)\n",
    "    t_dropoff_heat_grid_3.to_csv(export_processed_dir\n",
    "                                 + 'dropoff_heat_grid_'\n",
    "                                 + str(3) + '.csv')"
   ]
  },
  {
   "cell_type": "code",
   "execution_count": null,
   "metadata": {},
   "outputs": [],
   "source": [
    "if parse_ny_trip_data == True:\n",
    "    columns = [' dropoff_longitude', ' dropoff_latitude']\n",
    "    t_dropoff_4 = pd.read_csv(dir_trip_data \n",
    "                                + 'trip_data_'\n",
    "                                + str(4) + '.csv',\n",
    "                                encoding=\"utf-8\",\n",
    "                                usecols=columns)"
   ]
  },
  {
   "cell_type": "code",
   "execution_count": null,
   "metadata": {},
   "outputs": [],
   "source": [
    " if export_processed_data == True:\n",
    "    t_dropoff_heat_grid_4 = get_heat_grid(t_dropoff_4,\n",
    "                                              ' dropoff_latitude',\n",
    "                                              ' dropoff_longitude',\n",
    "                                              ny_min_x, ny_min_y,\n",
    "                                              ny_max_x, ny_max_y,\n",
    "                                              grid_cell_step,\n",
    "                                              grid_division)\n",
    "    t_dropoff_heat_grid_4.to_csv(export_processed_dir\n",
    "                                 + 'dropoff_heat_grid_'\n",
    "                                 + str(4) + '.csv')"
   ]
  },
  {
   "cell_type": "code",
   "execution_count": null,
   "metadata": {},
   "outputs": [],
   "source": [
    "if parse_ny_trip_data == True:\n",
    "    columns = [' dropoff_longitude', ' dropoff_latitude']\n",
    "    t_dropoff_5 = pd.read_csv(dir_trip_data \n",
    "                                + 'trip_data_'\n",
    "                                + str(5) + '.csv',\n",
    "                                encoding=\"utf-8\",\n",
    "                                usecols=columns)"
   ]
  },
  {
   "cell_type": "code",
   "execution_count": null,
   "metadata": {},
   "outputs": [],
   "source": [
    " if export_processed_data == True:\n",
    "    t_dropoff_heat_grid_5 = get_heat_grid(t_dropoff_5,\n",
    "                                              ' dropoff_latitude',\n",
    "                                              ' dropoff_longitude',\n",
    "                                              ny_min_x, ny_min_y,\n",
    "                                              ny_max_x, ny_max_y,\n",
    "                                              grid_cell_step,\n",
    "                                              grid_division)\n",
    "    t_dropoff_heat_grid_5.to_csv(export_processed_dir\n",
    "                                 + 'dropoff_heat_grid_'\n",
    "                                 + str(5) + '.csv')"
   ]
  },
  {
   "cell_type": "code",
   "execution_count": null,
   "metadata": {},
   "outputs": [],
   "source": [
    "if parse_ny_trip_data == True:\n",
    "    columns = [' dropoff_longitude', ' dropoff_latitude']\n",
    "    t_dropoff_6 = pd.read_csv(dir_trip_data \n",
    "                                + 'trip_data_'\n",
    "                                + str(6) + '.csv',\n",
    "                                encoding=\"utf-8\",\n",
    "                                usecols=columns)"
   ]
  },
  {
   "cell_type": "code",
   "execution_count": null,
   "metadata": {},
   "outputs": [],
   "source": [
    " if export_processed_data == True:\n",
    "    t_dropoff_heat_grid_6 = get_heat_grid(t_dropoff_6,\n",
    "                                              ' dropoff_latitude',\n",
    "                                              ' dropoff_longitude',\n",
    "                                              ny_min_x, ny_min_y,\n",
    "                                              ny_max_x, ny_max_y,\n",
    "                                              grid_cell_step,\n",
    "                                              grid_division)\n",
    "    t_dropoff_heat_grid_6.to_csv(export_processed_dir\n",
    "                                 + 'dropoff_heat_grid_'\n",
    "                                 + str(6) + '.csv')"
   ]
  }
 ],
 "metadata": {
  "kernelspec": {
   "display_name": "Python 3",
   "language": "python",
   "name": "python3"
  },
  "language_info": {
   "codemirror_mode": {
    "name": "ipython",
    "version": 3
   },
   "file_extension": ".py",
   "mimetype": "text/x-python",
   "name": "python",
   "nbconvert_exporter": "python",
   "pygments_lexer": "ipython3",
   "version": "3.8.5"
  }
 },
 "nbformat": 4,
 "nbformat_minor": 2
}
